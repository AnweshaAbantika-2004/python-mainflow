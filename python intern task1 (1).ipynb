{
 "cells": [
  {
   "cell_type": "code",
   "execution_count": 61,
   "id": "86b16675-3ae0-4111-baf3-36e3f62b2d76",
   "metadata": {},
   "outputs": [
    {
     "name": "stdout",
     "output_type": "stream",
     "text": [
      "Hello anwesha\n",
      "your age is 19\n",
      "are you tall? True\n",
      "good morning anwesha abantika\n",
      "now your age is 20\n",
      "are you tall? False\n",
      "20 years later,your age is: 40\n"
     ]
    }
   ],
   "source": [
    "#creating variables\n",
    "#assigning values to variables\n",
    "name='anwesha'\n",
    "age=19\n",
    "is_tall=True\n",
    "#printing variables values\n",
    "print(\"Hello\",name)\n",
    "print(\"your age is\",age)\n",
    "print(\"are you tall?\",is_tall)\n",
    "\n",
    "#re-assigning values to variables\n",
    "name=\"anwesha abantika\"\n",
    "age=20\n",
    "is_tall=False\n",
    "\n",
    "print(\"good morning\",name)\n",
    "print(\"now your age is\",age)\n",
    "print(\"are you tall?\",is_tall)\n",
    "\n",
    "#using variables in calculation\n",
    "total_age=age+20\n",
    "print(\"20 years later,your age is:\",total_age)\n"
   ]
  },
  {
   "cell_type": "code",
   "execution_count": 45,
   "id": "fa3b1557-6535-4294-836a-e26f51213370",
   "metadata": {},
   "outputs": [
    {
     "name": "stdout",
     "output_type": "stream",
     "text": [
      "isha 20 95.8 True\n"
     ]
    }
   ],
   "source": [
    "#creating data types\n",
    "#string datatype\n",
    "name =\"isha\"\n",
    "\n",
    "#integer datatype\n",
    "age=20\n",
    "\n",
    "#floating datatype\n",
    "percentage=95.8\n",
    "\n",
    "#boolean datatype   \n",
    "is_student=True\n",
    "\n",
    "#printing datatypes\n",
    "print(name,age,percentage,is_student)"
   ]
  },
  {
   "cell_type": "code",
   "execution_count": 46,
   "id": "c024a19a-0b22-49d5-9739-1f345491a7e2",
   "metadata": {},
   "outputs": [
    {
     "name": "stdout",
     "output_type": "stream",
     "text": [
      "sum 7\n",
      "difference 1\n",
      "product 12\n",
      "division 1.3333333333333333\n",
      "floor divison 1\n",
      "modulus 1\n",
      "exponentiation 64\n"
     ]
    }
   ],
   "source": [
    "#arithmetic operation\n",
    "print(\"sum\",4+3)\n",
    "print(\"difference\",4-3)\n",
    "print(\"product\",4*3)\n",
    "print(\"division\",4/3)\n",
    "print(\"floor divison\",4//3)\n",
    "print(\"modulus\",4%3)\n",
    "print(\"exponentiation\",4**3) "
   ]
  },
  {
   "cell_type": "code",
   "execution_count": 47,
   "id": "243ad0dc-f83e-4455-8bf0-6eacba0e2a4f",
   "metadata": {},
   "outputs": [
    {
     "name": "stdout",
     "output_type": "stream",
     "text": [
      "anweshaabantika\n",
      "we love earth\n",
      "count of 'i': 1\n",
      "['ria', 'sia', 'tia', 'mia']\n",
      "NEW YORK\n",
      "new york\n",
      "New york\n",
      "H\n",
      "r\n",
      "!\n",
      "l\n",
      "The student name is isha,and marks is 96\n"
     ]
    }
   ],
   "source": [
    "#string manipulation\n",
    "#concatenation of strings\n",
    "name1=\"anwesha\"\n",
    "name2=\"abantika\"\n",
    "print(name1+name2)\n",
    "#replace part of string\n",
    "string=\"we love nature\"\n",
    "string=string.replace('nature','earth')\n",
    "print(string)\n",
    "#count characters\n",
    "name=\"anwesha abantika\"\n",
    "name=name.count('i')\n",
    "print(\"count of 'i':\",name)\n",
    "#split a string\n",
    "str1=\"ria sia tia mia\"\n",
    "str=str1.split()\n",
    "print(str)\n",
    "#modifying string\n",
    "#for upper case\n",
    "str=\"new york\"\n",
    "str1=str.upper()\n",
    "print(str1)\n",
    "#for lower case\n",
    "str2=str1.lower()\n",
    "print(str2)\n",
    "#for capitalising\n",
    "str3=str2.capitalize()\n",
    "print(str3)\n",
    "#string indexing\n",
    "text=\"Hello World!\"\n",
    "#positive indexing\n",
    "print(text[0])\n",
    "print(text[8])\n",
    "#negative indexing\n",
    "print(text[-1])\n",
    "print(text[-3])\n",
    "#string formating\n",
    "student_name=\"isha\"\n",
    "student_mark=\"96\"\n",
    "str1=\"The student name is {s},and marks is {m}\"\n",
    "print(str1.format(s=student_name,m=student_mark))"
   ]
  },
  {
   "cell_type": "code",
   "execution_count": 75,
   "id": "c89c4f4c-9db9-49b5-bef2-6bc8df5732a7",
   "metadata": {},
   "outputs": [
    {
     "name": "stdout",
     "output_type": "stream",
     "text": [
      "number is positive\n",
      "odd\n",
      "95 is greatest\n",
      "profit 50\n",
      "output is odd\n"
     ]
    }
   ],
   "source": [
    "#conditional statements\n",
    "#if\n",
    "number=10\n",
    "if number%==0:\n",
    "    print(\"number is divisible by 5\")\n",
    "\n",
    "#if else\n",
    "num=9\n",
    "if num>=0:\n",
    "    print(\"positive\")\n",
    "else:\n",
    "    print(\"negative\")\n",
    "\n",
    "#nested ifelse\n",
    "num1=80\n",
    "num2=95\n",
    "num3=90\n",
    "if num1>num2:\n",
    "    if num1>num3:\n",
    "        print(num1,\"is greatest\")\n",
    "    else:\n",
    "        print(num3,\"is greatest\")\n",
    "else:\n",
    "    if num2>num3:\n",
    "        print(num2,\"is greatest\")\n",
    "    else:\n",
    "        print(num3,\"is greatest\")\n",
    "\n",
    "#if-elif-else\n",
    "selling_price=500\n",
    "cost_price=450\n",
    "if selling_price>cost_price:\n",
    "    print(\"profit\",selling_price-cost_price)\n",
    "elif cost_price>selling_price:\n",
    "    print(\"loss\",cost_price-selling_price)\n",
    "else:\n",
    "    print(\"no profit no loss\")\n",
    "\n",
    "#ternary\n",
    "num=9\n",
    "output=\"even\"if num%2==0 else\"odd\"\n",
    "print(\"output is\",output)"
   ]
  },
  {
   "cell_type": "code",
   "execution_count": 68,
   "id": "008e9a0a-fa01-4cfe-b53f-3c03777ef45f",
   "metadata": {},
   "outputs": [
    {
     "name": "stdout",
     "output_type": "stream",
     "text": [
      "10\n",
      "20\n",
      "30\n",
      "40\n",
      "50\n",
      "hello world\n",
      "hello world\n",
      "hello world\n",
      "hello world\n",
      "hello world\n",
      "hello world\n",
      "hello world\n",
      "hello world\n",
      "hello world\n",
      "hello world\n",
      "a\n",
      "n\n",
      "w\n",
      "e\n",
      "s\n",
      "h\n",
      "a\n",
      "0\n",
      "1\n",
      "2\n",
      "3\n",
      "4\n",
      "5\n",
      "6\n",
      "7\n",
      "8\n",
      "9\n",
      "10\n"
     ]
    }
   ],
   "source": [
    "#loops\n",
    "\n",
    "#for loops\n",
    "#looping through a list\n",
    "list=[10,20,30,40,50]\n",
    "for i in list:\n",
    "    print(i)\n",
    "#looping with in a range\n",
    "for i in range(1,11):\n",
    "    print(\"hello world\")\n",
    "#looping through characters in string\n",
    "name=\"anwesha\"\n",
    "for char in name:\n",
    "    print(char)\n",
    "\n",
    "#while loop\n",
    "#looping through condition\n",
    "j=0\n",
    "while j<=10:\n",
    "    print(j)\n",
    "    j += 1"
   ]
  },
  {
   "cell_type": "code",
   "execution_count": 74,
   "id": "c420763b-0eb7-419a-ac3a-8bbf6fe7e813",
   "metadata": {},
   "outputs": [
    {
     "name": "stdout",
     "output_type": "stream",
     "text": [
      "40320\n",
      "5 usd = 417.70000000000005 inr\n"
     ]
    }
   ],
   "source": [
    "#function\n",
    "#factorial of n using function\n",
    "def cal_fact(n):\n",
    "    fact=1\n",
    "    for i in range(1,n+1):\n",
    "        fact *= i\n",
    "    print(fact)\n",
    "    \n",
    "cal_fact(8)\n",
    "#covert usd to inr using function\n",
    "def converter(usd_value):\n",
    "    inr_value=usd_value*83.54  #1 dollar=83.54rupess\n",
    "    print(usd_value,\"usd =\",inr_value,\"inr\")\n",
    "converter(5)"
   ]
  },
  {
   "cell_type": "code",
   "execution_count": 63,
   "id": "1b5fd99d-478f-4ef7-8015-499b63bf868e",
   "metadata": {},
   "outputs": [
    {
     "name": "stdout",
     "output_type": "stream",
     "text": [
      "list: ['apple', 'cheery', 'mango', 'pineapple']\n",
      "After adding kiwi: ['apple', 'cheery', 'mango', 'pineapple', 'kiwi']\n",
      "After removing cheery: ['apple', 'mango', 'pineapple', 'kiwi']\n",
      "after sorting: ['apple', 'kiwi', 'mango', 'pineapple']\n",
      "after sorting in descending: ['pineapple', 'mango', 'kiwi', 'apple']\n",
      "['pineapple', 'mango', 'papaya', 'kiwi', 'apple']\n",
      "after reverse ['apple', 'kiwi', 'papaya', 'mango', 'pineapple']\n",
      "['apple', 'kiwi', 'papaya', 'mango', 'pineapple', 'rice', 'dal']\n",
      "kiwi\n",
      "dal\n",
      "['kiwi']\n",
      "['rice']\n"
     ]
    }
   ],
   "source": [
    "#list\n",
    "#creating list\n",
    "fruits=[\"apple\",\"cheery\",\"mango\",\"pineapple\"]\n",
    "print(\"list:\",fruits)\n",
    "\n",
    "#adding elements\n",
    "fruits.append(\"kiwi\")\n",
    "print(\"After adding kiwi:\",fruits)\n",
    "\n",
    "#removing elements\n",
    "fruits.remove(\"cheery\")\n",
    "print(\"After removing cheery:\",fruits)\n",
    "\n",
    "#sorting a list\n",
    "fruits.sort()\n",
    "print(\"after sorting:\",fruits)    \n",
    "\n",
    "#sorting a list in a descending order\n",
    "fruits.sort(reverse=True)\n",
    "print(\"after sorting in descending:\",fruits)\n",
    "\n",
    "#insert element\n",
    "fruits.insert(2,\"papaya\") #insert papaya at index2\n",
    "print(fruits)\n",
    "    \n",
    "#reversing list\n",
    "fruits.reverse()\n",
    "print(\"after reverse\",fruits)\n",
    "          \n",
    "#extending the list by another list\n",
    "food=[\"rice\",\"dal\"]\n",
    "fruits.extend(food)\n",
    "print(fruits)\n",
    "\n",
    "#indexing in list\n",
    "print(fruits[1]) #positive indexing\n",
    "print(fruits[-1]) #negative indexing \n",
    "print(fruits[1:2])  #range of indexes\n",
    "print(fruits[-2:-1]) #range of negative indexes"
   ]
  },
  {
   "cell_type": "code",
   "execution_count": 64,
   "id": "0d712b0e-48d4-4d3e-a96d-26715dd9dc1b",
   "metadata": {},
   "outputs": [
    {
     "name": "stdout",
     "output_type": "stream",
     "text": [
      "{'John': 982628, 'Ria': 468201, 'Joy': 126830}\n",
      "<class 'dict'>\n",
      "3\n",
      "982628\n",
      "dict_keys(['John', 'Ria', 'Joy'])\n",
      "{'John': 9876654, 'Ria': 468201, 'Joy': 126830}\n",
      "{'John': 9876654, 'Ria': 468201, 'Joy': 126830, 'kia': 234567}\n",
      "9876654\n",
      "468201\n",
      "126830\n",
      "234567\n",
      "{}\n"
     ]
    }
   ],
   "source": [
    "#creating dictionary\n",
    "phones={\n",
    "    \"John\":982628,\n",
    "    \"Ria\":468201,\n",
    "   \"Joy\":126830,\n",
    "}\n",
    "print(phones)\n",
    "print(type(phones))\n",
    "print(len(phones))\n",
    "\n",
    "#accessing items in dictionary\n",
    "print(phones[\"John\"])\n",
    "print(phones.keys())\n",
    "\n",
    "#update value in dictionary\n",
    "phones[\"John\"]=9876654\n",
    "print(phones)\n",
    "\n",
    "#add elements in dictionary\n",
    "phones[\"kia\"]=234567\n",
    "print(phones)\n",
    "\n",
    "#print elements of a dictionary\n",
    "for x in phones:\n",
    "   print(phones[x])\n",
    "\n",
    "#clear elements in dictionary\n",
    "phones.clear()\n",
    "print(phones)\n"
   ]
  },
  {
   "cell_type": "code",
   "execution_count": 65,
   "id": "20472140-f832-4120-9a95-4265da0bc595",
   "metadata": {},
   "outputs": [
    {
     "name": "stdout",
     "output_type": "stream",
     "text": [
      "('red', 'yellow', 'green')\n",
      "('a', 'p', 'p', 'l', 'e')\n",
      "<class 'tuple'>\n",
      "3\n",
      "yellow\n",
      "green\n",
      "('yellow', 'green')\n",
      "('yellow', 'green')\n",
      "green is the part of tuple\n",
      "red\n",
      "yellow\n",
      "green\n",
      "('red', 'yellow', 'green', 'blue', 'brown')\n"
     ]
    }
   ],
   "source": [
    "#tuple\n",
    "#creating a tuple\n",
    "colours=(\"red\",\"yellow\",\"green\")\n",
    "print(colours)\n",
    "\n",
    "#creating a tuple with one item\n",
    "fruit=tuple(\"apple\")\n",
    "print(fruit)\n",
    "\n",
    "#check type of tuple\n",
    "print(type(colours))\n",
    "\n",
    "#check length of tuple\n",
    "print(len(colours))\n",
    "\n",
    "#checking accessing item in tuple\n",
    "print(colours[1]) #positive indexing #yellow\n",
    "print(colours[-1]) #negative indexing #green\n",
    "print(colours[1:3]) #range indexing yellow ,green\n",
    "print(colours[-2:]) #negative indexing yellow ,green\n",
    "\n",
    "#check if a item exists in tuple\n",
    "if \"green\" in colours:\n",
    "    print(\"green is the part of tuple\")\n",
    "\n",
    "#traverse the tuple\n",
    "for i in colours:\n",
    "    print(i)\n",
    "\n",
    "#concatenate 2 tuples\n",
    "More_colours=(\"blue\",\"brown\")\n",
    "colours=colours+More_colours\n",
    "print(colours)\n"
   ]
  }
 ],
 "metadata": {
  "kernelspec": {
   "display_name": "Python 3 (ipykernel)",
   "language": "python",
   "name": "python3"
  },
  "language_info": {
   "codemirror_mode": {
    "name": "ipython",
    "version": 3
   },
   "file_extension": ".py",
   "mimetype": "text/x-python",
   "name": "python",
   "nbconvert_exporter": "python",
   "pygments_lexer": "ipython3",
   "version": "3.12.2"
  }
 },
 "nbformat": 4,
 "nbformat_minor": 5
}
